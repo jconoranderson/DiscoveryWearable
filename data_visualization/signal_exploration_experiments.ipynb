{
 "cells": [
  {
   "cell_type": "code",
   "execution_count": 1,
   "metadata": {},
   "outputs": [],
   "source": [
    "import matplotlib.pyplot as plt\n",
    "import numpy as np\n",
    "import pandas as pd"
   ]
  },
  {
   "cell_type": "code",
   "execution_count": 2,
   "metadata": {},
   "outputs": [
    {
     "data": {
      "text/html": [
       "<div>\n",
       "<style scoped>\n",
       "    .dataframe tbody tr th:only-of-type {\n",
       "        vertical-align: middle;\n",
       "    }\n",
       "\n",
       "    .dataframe tbody tr th {\n",
       "        vertical-align: top;\n",
       "    }\n",
       "\n",
       "    .dataframe thead th {\n",
       "        text-align: right;\n",
       "    }\n",
       "</style>\n",
       "<table border=\"1\" class=\"dataframe\">\n",
       "  <thead>\n",
       "    <tr style=\"text-align: right;\">\n",
       "      <th></th>\n",
       "      <th>time</th>\n",
       "      <th>z</th>\n",
       "      <th>y</th>\n",
       "      <th>x</th>\n",
       "      <th>battery</th>\n",
       "      <th>celsius</th>\n",
       "      <th>eda</th>\n",
       "      <th>event</th>\n",
       "    </tr>\n",
       "  </thead>\n",
       "  <tbody>\n",
       "    <tr>\n",
       "      <th>0</th>\n",
       "      <td>52:08.0</td>\n",
       "      <td>-0.13</td>\n",
       "      <td>-1.11</td>\n",
       "      <td>0.07</td>\n",
       "      <td>-1</td>\n",
       "      <td>27.6</td>\n",
       "      <td>0.007</td>\n",
       "      <td>0</td>\n",
       "    </tr>\n",
       "    <tr>\n",
       "      <th>1</th>\n",
       "      <td>52:08.0</td>\n",
       "      <td>-0.11</td>\n",
       "      <td>-1.10</td>\n",
       "      <td>0.08</td>\n",
       "      <td>-1</td>\n",
       "      <td>27.6</td>\n",
       "      <td>0.007</td>\n",
       "      <td>0</td>\n",
       "    </tr>\n",
       "    <tr>\n",
       "      <th>2</th>\n",
       "      <td>52:08.1</td>\n",
       "      <td>-0.11</td>\n",
       "      <td>-1.10</td>\n",
       "      <td>0.08</td>\n",
       "      <td>-1</td>\n",
       "      <td>27.6</td>\n",
       "      <td>0.007</td>\n",
       "      <td>0</td>\n",
       "    </tr>\n",
       "    <tr>\n",
       "      <th>3</th>\n",
       "      <td>52:08.1</td>\n",
       "      <td>-0.11</td>\n",
       "      <td>-1.10</td>\n",
       "      <td>0.08</td>\n",
       "      <td>-1</td>\n",
       "      <td>27.6</td>\n",
       "      <td>0.007</td>\n",
       "      <td>0</td>\n",
       "    </tr>\n",
       "    <tr>\n",
       "      <th>4</th>\n",
       "      <td>52:08.1</td>\n",
       "      <td>-0.11</td>\n",
       "      <td>-1.10</td>\n",
       "      <td>0.08</td>\n",
       "      <td>-1</td>\n",
       "      <td>27.6</td>\n",
       "      <td>0.007</td>\n",
       "      <td>0</td>\n",
       "    </tr>\n",
       "  </tbody>\n",
       "</table>\n",
       "</div>"
      ],
      "text/plain": [
       "      time     z     y     x  battery  celsius    eda  event\n",
       "0  52:08.0 -0.13 -1.11  0.07       -1     27.6  0.007      0\n",
       "1  52:08.0 -0.11 -1.10  0.08       -1     27.6  0.007      0\n",
       "2  52:08.1 -0.11 -1.10  0.08       -1     27.6  0.007      0\n",
       "3  52:08.1 -0.11 -1.10  0.08       -1     27.6  0.007      0\n",
       "4  52:08.1 -0.11 -1.10  0.08       -1     27.6  0.007      0"
      ]
     },
     "execution_count": 2,
     "metadata": {},
     "output_type": "execute_result"
    }
   ],
   "source": [
    "data = pd.read_csv(\"../data/sample_eda_data.csv\", skiprows = 8, names = [\"time\" ,\"z\", \"y\", \"x\", \"battery\", \"celsius\", \"eda\", \"event\"])\n",
    "data.head()"
   ]
  },
  {
   "cell_type": "code",
   "execution_count": 22,
   "metadata": {},
   "outputs": [
    {
     "data": {
      "image/png": "[encoded data removed]",
      "text/plain": [
       "<Figure size 432x288 with 1 Axes>"
      ]
     },
     "metadata": {
      "needs_background": "light"
     },
     "output_type": "display_data"
    }
   ],
   "source": [
    "plt.plot(data[\"time\"][0:40], data[\"eda\"][0:40])\n",
    "plt.title(\"EDA versus Time\")\n",
    "plt.xlabel(\"Time (seconds)\")\n",
    "plt.xticks(rotation=45)\n",
    "plt.ylabel(\"EDA (μS)\")\n",
    "plt.show()"
   ]
  }
 ],
 "metadata": {
  "kernelspec": {
   "display_name": "Python 3",
   "language": "python",
   "name": "python3"
  },
  "language_info": {
   "codemirror_mode": {
    "name": "ipython",
    "version": 3
   },
   "file_extension": ".py",
   "mimetype": "text/x-python",
   "name": "python",
   "nbconvert_exporter": "python",
   "pygments_lexer": "ipython3",
   "version": "3.7.6"
  }
 },
 "nbformat": 4,
 "nbformat_minor": 4
}
